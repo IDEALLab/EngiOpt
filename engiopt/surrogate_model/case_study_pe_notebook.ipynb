{
 "cells": [
  {
   "cell_type": "markdown",
   "metadata": {},
   "source": [
    "# Load data related to power electronics"
   ]
  },
  {
   "cell_type": "code",
   "execution_count": null,
   "metadata": {},
   "outputs": [],
   "source": [
    "from engibench.problems.power_electronics.v0 import PowerElectronics\n",
    "\n",
    "print(\"[INFO] Loading dataset from power_electronics\")\n",
    "problem = PowerElectronics()\n",
    "ds = problem.dataset\n",
    "{\"train\": ds[\"train\"].to_pandas(), \"val\": ds[\"val\"].to_pandas(), \"test\": ds[\"test\"].to_pandas()}\n",
    "df_test = ds[\"test\"].to_pandas()"
   ]
  },
  {
   "cell_type": "markdown",
   "metadata": {},
   "source": [
    "# Data Analysis"
   ]
  },
  {
   "cell_type": "code",
   "execution_count": null,
   "metadata": {},
   "outputs": [],
   "source": [
    "import matplotlib.pyplot as plt\n",
    "import numpy as np\n",
    "\n",
    "# Compute log(r + 1e-8)\n",
    "log_r = np.log(df_test[\"Voltage_Ripple\"])\n",
    "\n",
    "# Histogram\n",
    "plt.figure(figsize=(7, 5))\n",
    "plt.hist(log_r, bins=200, alpha=0.7)\n",
    "plt.xlabel(\"log(r)\")\n",
    "plt.ylabel(\"Count\")\n",
    "plt.title(\"Histogram of log(r)\")\n",
    "plt.show()"
   ]
  },
  {
   "cell_type": "code",
   "execution_count": null,
   "metadata": {},
   "outputs": [],
   "source": [
    "import matplotlib.pyplot as plt\n",
    "import numpy as np\n",
    "\n",
    "# Compute log(r + 1e-8)\n",
    "log_g = np.log(df_test[\"DcGain\"])\n",
    "\n",
    "# Histogram\n",
    "plt.figure(figsize=(7, 5))\n",
    "plt.hist(log_g, bins=200, alpha=0.7)\n",
    "plt.xlabel(\"log(g)\")\n",
    "plt.ylabel(\"Count\")\n",
    "plt.title(\"Histogram of log(g)\")\n",
    "plt.show()"
   ]
  },
  {
   "cell_type": "code",
   "execution_count": null,
   "metadata": {},
   "outputs": [],
   "source": [
    "df_test.columns"
   ]
  },
  {
   "cell_type": "code",
   "execution_count": null,
   "metadata": {},
   "outputs": [],
   "source": [
    "df_test.describe()"
   ]
  },
  {
   "cell_type": "code",
   "execution_count": null,
   "metadata": {},
   "outputs": [],
   "source": [
    "df_test[\"initial_design\"]"
   ]
  },
  {
   "cell_type": "markdown",
   "metadata": {},
   "source": [
    "# Hyperparameter tuning with ax platform and botorch in backend\n",
    "\n",
    "## Output: g"
   ]
  },
  {
   "cell_type": "code",
   "execution_count": null,
   "metadata": {},
   "outputs": [],
   "source": [
    "!python bayes_optimize.py \\\n",
    "    --problem_id \"power_electronics\" \\\n",
    "    --target_col \"DcGain\" \\\n",
    "    --log_target \\\n",
    "    --params_cols '[\"initial_design_0\",\"initial_design_1\",\"initial_design_2\",\"initial_design_3\",\"initial_design_4\",\"initial_design_5\",\"initial_design_6\",\"initial_design_7\",\"initial_design_8\",\"initial_design_9\"]' \\\n",
    "    --flatten_columns '[\"initial_design\"]' \\\n",
    "    --n_epochs 30 \\\n",
    "    --patience 20 \\\n",
    "    --seed 1 \\\n",
    "    --track \\\n",
    "    --wandb_project \"engiopt\" \\\n",
    "    --wandb_entity \"engibench\" \\\n",
    "    --n_ensembles 1 \\\n",
    "    --save_model \\\n",
    "    --model_output_dir \"my_models\" \\\n",
    "    --test_model \\\n",
    "    --device \"mps\" \\\n",
    "    --total_trials 50 \\\n",
    "    --learning_rate_bounds 1e-5 1e-3 \\\n",
    "    --hidden_layers_choices 2 3 4 5 \\\n",
    "    --hidden_size_choices 16 32 64 128 256 \\\n",
    "    --batch_size_choices 8 16 32 64 128 \\\n",
    "    --l2_lambda_bounds 1e-6 1e-3 \\\n",
    "    --activation_choices \"relu\" \"tanh\""
   ]
  },
  {
   "cell_type": "markdown",
   "metadata": {},
   "source": [
    "# Hyperparameter tuning with ax platform and botorch in backend\n",
    "\n",
    "## Output: r"
   ]
  },
  {
   "cell_type": "code",
   "execution_count": null,
   "metadata": {},
   "outputs": [],
   "source": [
    "!python bayes_optimize.py \\\n",
    "    --problem_id \"power_electronics\" \\\n",
    "    --target_col \"Voltage_Ripple\" \\\n",
    "    --log_target \\\n",
    "    --params_cols '[\"initial_design_0\",\"initial_design_1\",\"initial_design_2\",\"initial_design_3\",\"initial_design_4\",\"initial_design_5\",\"initial_design_6\",\"initial_design_7\",\"initial_design_8\",\"initial_design_9\"]' \\\n",
    "    --flatten_columns '[\"initial_design\"]' \\\n",
    "    --n_epochs 30 \\\n",
    "    --patience 20 \\\n",
    "    --seed 1 \\\n",
    "    --track \\\n",
    "    --wandb_project \"engiopt\" \\\n",
    "    --wandb_entity \"engibench\" \\\n",
    "    --n_ensembles 1 \\\n",
    "    --save_model \\\n",
    "    --model_output_dir \"my_models\" \\\n",
    "    --test_model \\\n",
    "    --device \"mps\" \\\n",
    "    --total_trials 50 \\\n",
    "    --learning_rate_bounds 1e-5 1e-3 \\\n",
    "    --hidden_layers_choices 2 3 4 5 \\\n",
    "    --hidden_size_choices 16 32 64 128 256 \\\n",
    "    --batch_size_choices 8 16 32 64 128 \\\n",
    "    --l2_lambda_bounds 1e-6 1e-3 \\\n",
    "    --activation_choices \"relu\" \"tanh\""
   ]
  },
  {
   "cell_type": "markdown",
   "metadata": {},
   "source": [
    "# Running a test"
   ]
  },
  {
   "cell_type": "code",
   "execution_count": null,
   "metadata": {},
   "outputs": [],
   "source": [
    "!python mlp_tabular_only.py \\\n",
    "    --problem_id \"power_electronics\" \\\n",
    "    --target_col \"DcGain\" \\\n",
    "    --log_target \\\n",
    "    --params_cols '[\"initial_design_0\",\"initial_design_1\",\"initial_design_2\",\"initial_design_3\",\"initial_design_4\",\"initial_design_5\",\"initial_design_6\",\"initial_design_7\",\"initial_design_8\",\"initial_design_9\"]' \\\n",
    "    --l2_lambda 1e-6 \\\n",
    "    --flatten_columns '[\"initial_design\"]' \\\n",
    "    --learning_rate 4e-4 \\\n",
    "    --lr_decay 0.95 \\\n",
    "    --activation \"relu\" \\\n",
    "    --hidden_layers 5 \\\n",
    "    --hidden_size 128 \\\n",
    "    --n_epochs 30 \\\n",
    "    --batch_size 16 \\\n",
    "    --patience 20 \\\n",
    "    --scale_target \\\n",
    "    --track \\\n",
    "    --wandb_project \"engiopt\" \\\n",
    "    --wandb_entity \"engibench\" \\\n",
    "    --seed 1 \\\n",
    "    --n_ensembles 2 \\\n",
    "    --save_model \\\n",
    "    --model_output_dir \"my_models\" \\\n",
    "    --test_model \\\n",
    "    --device \"mps\""
   ]
  },
  {
   "cell_type": "markdown",
   "metadata": {},
   "source": [
    "# Ensemble Creation to predict g"
   ]
  },
  {
   "cell_type": "markdown",
   "metadata": {},
   "source": [
    "Parameters : {'learning_rate': 0.0005352461015612833, 'hidden_layers': 5, 'hidden_size': 256, 'batch_size': 8, 'l2_lambda': 1e-06, 'activation': 'relu'}"
   ]
  },
  {
   "cell_type": "code",
   "execution_count": null,
   "metadata": {},
   "outputs": [],
   "source": [
    "!python mlp_tabular_only.py \\\n",
    "    --problem_id \"power_electronics\" \\\n",
    "    --target_col \"DcGain\" \\\n",
    "    --log_target \\\n",
    "    --params_cols '[\"initial_design_0\",\"initial_design_1\",\"initial_design_2\",\"initial_design_3\",\"initial_design_4\",\"initial_design_5\",\"initial_design_6\",\"initial_design_7\",\"initial_design_8\",\"initial_design_9\"]' \\\n",
    "    --l2_lambda 1e-6 \\\n",
    "    --flatten_columns '[\"initial_design\"]' \\\n",
    "    --learning_rate 0.0005352461015612833 \\\n",
    "    --lr_decay 0.95 \\\n",
    "    --activation \"relu\" \\\n",
    "    --hidden_layers 5 \\\n",
    "    --hidden_size 256 \\\n",
    "    --n_epochs 150 \\\n",
    "    --batch_size 8 \\\n",
    "    --patience 50 \\\n",
    "    --scale_target \\\n",
    "    --track \\\n",
    "    --wandb_project \"engiopt\" \\\n",
    "    --wandb_entity \"engibench\" \\\n",
    "    --seed 1 \\\n",
    "    --n_ensembles 7 \\\n",
    "    --save_model \\\n",
    "    --model_output_dir \"my_models\" \\\n",
    "    --test_model \\\n",
    "    --device \"mps\""
   ]
  },
  {
   "cell_type": "markdown",
   "metadata": {},
   "source": [
    "# Ensemble Creation to predict r"
   ]
  },
  {
   "cell_type": "markdown",
   "metadata": {},
   "source": [
    "Parameters : {'learning_rate': 0.00041678932436208844, 'hidden_layers': 4, 'hidden_size': 256, 'batch_size': 32, 'l2_lambda': 0.001, 'activation': 'relu'}\n",
    "Metric val : ({'objective': 0.0892840633613089}, {'objective': {'objective': 2.446301998255898e-07}})"
   ]
  },
  {
   "cell_type": "code",
   "execution_count": null,
   "metadata": {},
   "outputs": [],
   "source": [
    "!python mlp_tabular_only.py \\\n",
    "    --problem_id \"power_electronics\" \\\n",
    "    --target_col \"Voltage_Ripple\" \\\n",
    "    --log_target \\\n",
    "    --params_cols '[\"initial_design_0\",\"initial_design_1\",\"initial_design_2\",\"initial_design_3\",\"initial_design_4\",\"initial_design_5\",\"initial_design_6\",\"initial_design_7\",\"initial_design_8\",\"initial_design_9\"]' \\\n",
    "    --l2_lambda 1e-3 \\\n",
    "    --flatten_columns '[\"initial_design\"]' \\\n",
    "    --learning_rate 0.00041678932436208844 \\\n",
    "    --lr_decay 0.95 \\\n",
    "    --activation \"relu\" \\\n",
    "    --hidden_layers 4 \\\n",
    "    --hidden_size 256 \\\n",
    "    --n_epochs 150 \\\n",
    "    --batch_size 32 \\\n",
    "    --patience 50 \\\n",
    "    --scale_target \\\n",
    "    --track \\\n",
    "    --wandb_project \"engiopt\" \\\n",
    "    --wandb_entity \"engibench\" \\\n",
    "    --seed 1 \\\n",
    "    --n_ensembles 7 \\\n",
    "    --save_model \\\n",
    "    --model_output_dir \"my_models\" \\\n",
    "    --test_model \\\n",
    "    --device \"mps\""
   ]
  },
  {
   "cell_type": "markdown",
   "metadata": {},
   "source": [
    "# Running inference on one model"
   ]
  },
  {
   "cell_type": "code",
   "execution_count": null,
   "metadata": {},
   "outputs": [],
   "source": [
    "import sys\n",
    "\n",
    "import numpy as np\n",
    "import pandas as pd\n",
    "import torch\n",
    "\n",
    "import engiopt.surrogate_model.model_pipeline\n",
    "from engiopt.surrogate_model.model_pipeline import ModelPipeline\n",
    "\n",
    "sys.modules[\"model_pipeline\"] = engiopt.surrogate_model.model_pipeline\n",
    "\n",
    "\n",
    "if torch.backends.mps.is_available():\n",
    "    device = torch.device(\"mps\")\n",
    "elif torch.cuda.is_available():\n",
    "    device = torch.device(\"cuda\")\n",
    "else:\n",
    "    device = torch.device(\"cpu\")\n",
    "print(f\"Using device: {device}\")\n",
    "\n",
    "# 1) Load pipeline\n",
    "pipeline = ModelPipeline.load(\"my_models/final_pipeline_engiopt__mlp_tabular__18__1744568179_Voltage_Ripple.pkl\")\n",
    "\n",
    "# 2) Prepare new raw data in a DataFrame\n",
    "raw_data = df_test\n",
    "\n",
    "# 3) Predict\n",
    "# Since the pipeline now expects raw input, simply pass the DataFrame.\n",
    "y_pred = pipeline.predict(raw_data, batch_size=64, device=device)\n",
    "print(\"Predictions:\", y_pred)\n",
    "\n",
    "# 4) Evaluate (if you have ground-truth values)\n",
    "# The evaluate method also expects raw data.\n",
    "y_true = raw_data[\" Voltage_Ripple\"]  # For example, substitute with your actual ground-truth array\n",
    "print(\"Truth:\", y_true)\n",
    "metrics = pipeline.evaluate(raw_data, y_true, batch_size=64, device=device, metrics=[\"mse\", \"rmse\", \"rel_err\", \"mae\"])\n",
    "print(\"Evaluation metrics:\", metrics)"
   ]
  },
  {
   "cell_type": "markdown",
   "metadata": {},
   "source": [
    "# Pymoo optimization"
   ]
  },
  {
   "cell_type": "markdown",
   "metadata": {},
   "source": [
    "### Run the Optimization"
   ]
  },
  {
   "cell_type": "code",
   "execution_count": null,
   "metadata": {},
   "outputs": [],
   "source": [
    "!python run_pe_optimization.py \\\n",
    "  --model_gain_path  f\"{wandb_entity}/{wandb_project}/power_electronics__mlp_tabular__18__1745680073_model:latest\" \\\n",
    "  --model_ripple_path f\"{wandb_entity}/{wandb_project}/power_electronics__mlp_tabular__18__1745682222_model:latest\" \\\n",
    "  --device \"mps\" \\\n",
    "  --pop_size 500 \\\n",
    "  --n_gen 100 \\\n",
    "  --seed 1 \\\n",
    "  --track \\\n",
    "  --wandb_entity \"engibench\" \\\n",
    "  --wandb_project \"engiopt\""
   ]
  },
  {
   "cell_type": "markdown",
   "metadata": {},
   "source": [
    "### Visualize the Pareto front"
   ]
  },
  {
   "cell_type": "code",
   "execution_count": null,
   "metadata": {},
   "outputs": [],
   "source": [
    "import plotly.express as px\n",
    "\n",
    "# Load the combined Pareto front CSV (or use your existing DataFrame)\n",
    "df_front = pd.read_csv(\"results/pareto_front.csv\")\n",
    "\n",
    "# Create a scatter plot:\n",
    "#   - x-axis: predicted r (objective f_r)\n",
    "#   - y-axis: absolute deviation |g-0.25| (objective f_abs_g_minus_0.25)\n",
    "#   - hover_data: shows the design variables (C1...T1)\n",
    "fig = px.scatter(\n",
    "    df_front,\n",
    "    x=\"f0\",\n",
    "    y=\"f1\",\n",
    "    hover_data=[\"x0\", \"x1\", \"x2\", \"x3\", \"x4\", \"x5\", \"x6\", \"x7\", \"x8\", \"x9\"],\n",
    "    title=\"Pareto Front of Power Electronics Design Optimization\",\n",
    "    labels={\"f0\": \"|DcGain - 0.25|\", \"f1\": \"Voltage_Ripple\"},\n",
    ")\n",
    "\n",
    "# Optional: improve layout and add interactivity\n",
    "fig.update_traces(marker={\"size\": 10, \"color\": \"red\", \"opacity\": 0.8})\n",
    "fig.update_layout(hovermode=\"closest\")\n",
    "\n",
    "fig.show()"
   ]
  },
  {
   "cell_type": "code",
   "execution_count": null,
   "metadata": {},
   "outputs": [],
   "source": []
  },
  {
   "cell_type": "code",
   "execution_count": null,
   "metadata": {},
   "outputs": [],
   "source": []
  },
  {
   "cell_type": "markdown",
   "metadata": {},
   "source": [
    "# MMD \n",
    "### Computation between surrogate model Pareto front and its recomputed objective values with baseline problem.simulate()"
   ]
  },
  {
   "cell_type": "code",
   "execution_count": null,
   "metadata": {},
   "outputs": [],
   "source": [
    "from engibench.problems.power_electronics import PowerElectronics\n",
    "from hyppo.ksample import MMD\n",
    "import numpy as np\n",
    "import pandas as pd\n",
    "import plotly.express as px\n",
    "\n",
    "# 1) Load your surrogate-computed Pareto front (has x0…x9, f0, f1)\n",
    "df_front = pd.read_csv(\"results/pareto_front.csv\")\n",
    "dvars = [f\"x{i}\" for i in range(10)]\n",
    "df_X = df_front[dvars]  # noqa: N816\n",
    "\n",
    "# constant terms for simulation\n",
    "const_terms = np.array([1.0, 1.0, 0.0, 0.0, 1.0, 1.0, 1.0, 1.0, 0.0, 0.0])\n",
    "\n",
    "# 2) Simulate each design (with error-catching) and track failures\n",
    "problem = PowerElectronics()\n",
    "\n",
    "\n",
    "def simulate_objectives(x_row):\n",
    "    \"\"\"Return (|DcGain-0.25|, Voltage_Ripple) or (nan,nan) on failure.\"\"\"\n",
    "    try:\n",
    "        sim = problem.simulate(np.hstack([x_row.to_numpy(), const_terms]))\n",
    "        return np.abs(sim[0] - 0.25), sim[1]\n",
    "    except Exception:  # noqa: BLE001\n",
    "        return np.nan, np.nan\n",
    "\n",
    "\n",
    "f0_sims, f1_sims = [], []\n",
    "for _, row in df_X.iterrows():\n",
    "    f0, f1 = simulate_objectives(row)\n",
    "    f0_sims.append(f0)\n",
    "    f1_sims.append(f1)\n",
    "\n",
    "df_front[\"f0_sim\"] = f0_sims\n",
    "df_front[\"f1_sim\"] = f1_sims\n",
    "\n",
    "# Identify failed rows\n",
    "failed_mask = df_front[[\"f0_sim\", \"f1_sim\"]].isna().any(axis=1)\n",
    "n_failed = failed_mask.sum()\n",
    "failure_rate = n_failed / len(df_front)\n",
    "\n",
    "# Save the failed designs for inspection\n",
    "df_front.loc[failed_mask, [*dvars, \"f0\", \"f1\"]].to_csv(\"results/pareto_failures.csv\", index=False)\n",
    "\n",
    "# 3) Prepare two DataFrames—dropping failures—for plotting & MMD\n",
    "df_valid = df_front.loc[~failed_mask].reset_index(drop=True)\n",
    "\n",
    "df_pred = (\n",
    "    df_valid.rename(columns={\"f0\": \"r\", \"f1\": \"abs_g\"}).assign(kind=\"Surrogate\").loc[:, [*dvars, \"r\", \"abs_g\", \"kind\"]]\n",
    ")\n",
    "df_sim = (\n",
    "    df_valid.rename(columns={\"f0_sim\": \"abs_g\", \"f1_sim\": \"r\"})\n",
    "    .assign(kind=\"Simulated\")\n",
    "    .loc[:, [*dvars, \"r\", \"abs_g\", \"kind\"]]\n",
    ")\n",
    "df_both = pd.concat([df_pred, df_sim], ignore_index=True)\n",
    "\n",
    "# 4) Plot\n",
    "fig = px.scatter(\n",
    "    df_both,\n",
    "    x=\"r\",\n",
    "    y=\"abs_g\",\n",
    "    color=\"kind\",\n",
    "    hover_data=dvars,\n",
    "    title=\"Surrogate vs Simulated Pareto Front\",\n",
    "    labels={\"r\": \"|DcGain - 0.25|\", \"abs_g\": \"Voltage_Ripple\"},\n",
    ")\n",
    "fig.update_traces(marker={\"size\": 9, \"opacity\": 0.8})\n",
    "fig.update_layout(legend={\"x\": 0.02, \"y\": 0.98}, hovermode=\"closest\")\n",
    "fig.add_annotation(\n",
    "    text=f\"Simulation failure rate: {failure_rate:.1%} ({n_failed} simulations failed)\",\n",
    "    xref=\"paper\",\n",
    "    yref=\"paper\",\n",
    "    x=0.5,\n",
    "    y=1.05,\n",
    "    showarrow=False,\n",
    ")\n",
    "fig.show()\n",
    "\n",
    "# 5) Two-sample MMD² test on valid designs only\n",
    "X = df_pred[[\"r\", \"abs_g\"]].to_numpy()\n",
    "Y = df_sim[[\"r\", \"abs_g\"]].to_numpy()\n",
    "\n",
    "mmd = MMD(compute_kernel=\"rbf\", bias=False)\n",
    "stat, p_val = mmd.test(X, Y, reps=1000, auto=False)\n",
    "\n",
    "print(f\"\\nMMD² = {stat:.4e}, permutation p-value = {p_val:.3f}\")\n",
    "if p_val < 0.05:  # noqa: PLR2004\n",
    "    print(\"→ Clouds differ significantly (reject H₀ at α=0.05)\")  # noqa: RUF001\n",
    "else:\n",
    "    print(\"→ No significant difference detected (fail to reject H₀)\")\n",
    "\n",
    "# 6) Save enriched Pareto front (with sim results and failure flags)\n",
    "df_front.to_csv(\"results/pareto_front_with_sim.csv\", index=False)"
   ]
  },
  {
   "cell_type": "code",
   "execution_count": null,
   "metadata": {},
   "outputs": [],
   "source": []
  },
  {
   "cell_type": "code",
   "execution_count": null,
   "metadata": {},
   "outputs": [],
   "source": []
  },
  {
   "cell_type": "code",
   "execution_count": null,
   "metadata": {},
   "outputs": [],
   "source": []
  },
  {
   "cell_type": "code",
   "execution_count": null,
   "metadata": {},
   "outputs": [],
   "source": []
  }
 ],
 "metadata": {
  "kernelspec": {
   "display_name": ".venv",
   "language": "python",
   "name": "python3"
  },
  "language_info": {
   "codemirror_mode": {
    "name": "ipython",
    "version": 3
   },
   "file_extension": ".py",
   "mimetype": "text/x-python",
   "name": "python",
   "nbconvert_exporter": "python",
   "pygments_lexer": "ipython3",
   "version": "3.12.9"
  }
 },
 "nbformat": 4,
 "nbformat_minor": 2
}
